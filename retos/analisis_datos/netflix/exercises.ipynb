{
 "cells": [
  {
   "cell_type": "code",
   "execution_count": 196,
   "id": "08a5ecb8",
   "metadata": {},
   "outputs": [],
   "source": [
    "import pandas as pd\n",
    "import matplotlib.pyplot as plt\n",
    "import seaborn as sbn\n",
    "\n",
    "df = pd.read_csv('data/netflix_titles.csv', encoding=\"latin1\")\n"
   ]
  },
  {
   "cell_type": "code",
   "execution_count": null,
   "id": "abd0fe17",
   "metadata": {},
   "outputs": [
    {
     "name": "stdout",
     "output_type": "stream",
     "text": [
      "2019\n",
      "1424\n"
     ]
    }
   ],
   "source": [
    "# # 1 ¿En qué año se subieron más películas a la plataforma?\n",
    "df_movies = df.query('type == \"Movie\"').copy()\n",
    "\n",
    "df_movies['date_added'] = pd.to_datetime(df_movies['date_added'])\n",
    "\n",
    "df_movies['year_added'] = df_movies['date_added'].dt.year\n",
    "\n",
    "contador_peliculas = df_movies['year_added'].value_counts().sort_index()\n",
    "\n",
    "\n",
    "print(contador_peliculas.idxmax())\n",
    "print(contador_peliculas.max())"
   ]
  },
  {
   "cell_type": "code",
   "execution_count": null,
   "id": "2427d0c9",
   "metadata": {},
   "outputs": [
    {
     "data": {
      "text/plain": [
       "country\n",
       "United States     760\n",
       "United Kingdom    213\n",
       "Japan             169\n",
       "Name: count, dtype: int64"
      ]
     },
     "execution_count": 60,
     "metadata": {},
     "output_type": "execute_result"
    }
   ],
   "source": [
    "# # 2 En que país se han subido más series a netflix?\n",
    "\n",
    "df_series = df[df[\"type\"] ==\"TV Show\"].copy()\n",
    "# df_series = df.loc[df['type'] == 'TV Show']\n",
    "# df_series = df.query(\"type == 'TV Show'\")\n",
    "\n",
    "\n",
    "top_paises = df_series[\"country\"].value_counts().head(3)\n",
    "\n",
    "top_paises\n"
   ]
  },
  {
   "cell_type": "code",
   "execution_count": null,
   "id": "9669f1aa",
   "metadata": {},
   "outputs": [
    {
     "name": "stdout",
     "output_type": "stream",
     "text": [
      "total filas: 8809\n",
      "total filas nulas: 0\n",
      "total valores unicos: 8806\n"
     ]
    }
   ],
   "source": [
    "# # 1 ¿Cuántos títulos hay en total en el catálogo?\n",
    "\n",
    "print(f\"total filas: {len(df)}\")\n",
    "print(f\"total filas nulas: {df[\"title\"].isna().sum()}\")\n",
    "print(f\"total valores unicos: {df[\"title\"].nunique()}\")\n"
   ]
  },
  {
   "cell_type": "code",
   "execution_count": null,
   "id": "9f9cb9ec",
   "metadata": {},
   "outputs": [
    {
     "name": "stdout",
     "output_type": "stream",
     "text": [
      "         cantidad  proporcion\n",
      "type                         \n",
      "Movie        6132    0.696106\n",
      "TV Show      2677    0.303894\n"
     ]
    }
   ],
   "source": [
    "# # 2 ¿Cuántas películas y series hay respectivamente? (con proporción)\n",
    "\n",
    "conteo= df[\"type\"].value_counts()\n",
    "proporcion = df[\"type\"].value_counts(normalize=True)\n",
    "\n",
    "resultado = pd.DataFrame({\"cantidad\": conteo,\"proporcion\":proporcion})\n",
    "\n",
    "print(resultado)"
   ]
  },
  {
   "cell_type": "code",
   "execution_count": null,
   "id": "03e29c58",
   "metadata": {},
   "outputs": [
    {
     "data": {
      "text/html": [
       "<div>\n",
       "<style scoped>\n",
       "    .dataframe tbody tr th:only-of-type {\n",
       "        vertical-align: middle;\n",
       "    }\n",
       "\n",
       "    .dataframe tbody tr th {\n",
       "        vertical-align: top;\n",
       "    }\n",
       "\n",
       "    .dataframe thead th {\n",
       "        text-align: right;\n",
       "    }\n",
       "</style>\n",
       "<table border=\"1\" class=\"dataframe\">\n",
       "  <thead>\n",
       "    <tr style=\"text-align: right;\">\n",
       "      <th></th>\n",
       "      <th>title</th>\n",
       "      <th>type</th>\n",
       "      <th>release_year</th>\n",
       "      <th>country</th>\n",
       "    </tr>\n",
       "  </thead>\n",
       "  <tbody>\n",
       "    <tr>\n",
       "      <th>4250</th>\n",
       "      <td>Pioneers: First Women Filmmakers*</td>\n",
       "      <td>TV Show</td>\n",
       "      <td>1925</td>\n",
       "      <td>NaN</td>\n",
       "    </tr>\n",
       "  </tbody>\n",
       "</table>\n",
       "</div>"
      ],
      "text/plain": [
       "                                  title     type  release_year country\n",
       "4250  Pioneers: First Women Filmmakers*  TV Show          1925     NaN"
      ]
     },
     "execution_count": 57,
     "metadata": {},
     "output_type": "execute_result"
    }
   ],
   "source": [
    "# # 3 ¿Cuál es el contenido más antiguo disponible en Netflix?\n",
    "\n",
    "df.sort_values(\"release_year\")[[\"title\", \"type\", \"release_year\", \"country\"]].head(1)"
   ]
  },
  {
   "cell_type": "code",
   "execution_count": null,
   "id": "d778d752",
   "metadata": {},
   "outputs": [
    {
     "data": {
      "text/plain": [
       "1284"
      ]
     },
     "execution_count": 107,
     "metadata": {},
     "output_type": "execute_result"
    }
   ],
   "source": [
    "# # 4 ¿Cuántos títulos se añadieron en 2020?\n",
    "\n",
    "df_movies2=df_movies.copy()\n",
    "df_movies2[\"date_added\"] = pd.to_datetime(df_movies2[\"date_added\"])\n",
    "\n",
    "df_movies2[\"date_added\"] = df_movies2[\"date_added\"].dt.year\n",
    "\n",
    "len(df_movies2[df_movies2[\"date_added\"]==2020])\n"
   ]
  },
  {
   "cell_type": "code",
   "execution_count": null,
   "id": "4476acf0",
   "metadata": {},
   "outputs": [
    {
     "data": {
      "text/plain": [
       "(              title     type  duration_num    duration\n",
       " 548  Grey's Anatomy  TV Show            17  17 Seasons,\n",
       "                            title   type  duration_num duration\n",
       " 4253  Black Mirror: Bandersnatch  Movie           312  312 min)"
      ]
     },
     "execution_count": 179,
     "metadata": {},
     "output_type": "execute_result"
    }
   ],
   "source": [
    "# #  5 ¿Cuál es la película más larga y la serie con más temporadas?\n",
    "\n",
    "df = df[df['duration'].notna()]\n",
    "df['duration_num'] = df['duration'].str.extract(r'(\\d+)').astype(int)\n",
    "\n",
    "pelicula_larga = df[df[\"type\"] == \"Movie\"][[\"title\",\"type\",\"duration_num\",\"duration\"]].sort_values(\"duration_num\",ascending=False).head(1)\n",
    "\n",
    "\n",
    "series_temporadas= df[df[\"type\"] == \"TV Show\"][[\"title\",\"type\",\"duration_num\",\"duration\"]].sort_values(\"duration_num\",ascending=False).head(1)\n",
    "series_temporadas,pelicula_larga"
   ]
  },
  {
   "cell_type": "code",
   "execution_count": null,
   "id": "f455b80e",
   "metadata": {},
   "outputs": [
    {
     "data": {
      "text/plain": [
       "np.float64(0.039972745855098794)"
      ]
     },
     "execution_count": 198,
     "metadata": {},
     "output_type": "execute_result"
    }
   ],
   "source": [
    "# # 6 ¿Qué porcentaje de los datos tiene valores nulos en director y cast?\n",
    "(df[\"director\"].isna() & df[\"cast\"].isna()).mean()"
   ]
  },
  {
   "cell_type": "code",
   "execution_count": null,
   "id": "bc2b0587",
   "metadata": {},
   "outputs": [
    {
     "data": {
      "text/html": [
       "<div>\n",
       "<style scoped>\n",
       "    .dataframe tbody tr th:only-of-type {\n",
       "        vertical-align: middle;\n",
       "    }\n",
       "\n",
       "    .dataframe tbody tr th {\n",
       "        vertical-align: top;\n",
       "    }\n",
       "\n",
       "    .dataframe thead th {\n",
       "        text-align: right;\n",
       "    }\n",
       "</style>\n",
       "<table border=\"1\" class=\"dataframe\">\n",
       "  <thead>\n",
       "    <tr style=\"text-align: right;\">\n",
       "      <th></th>\n",
       "      <th>duration_unit</th>\n",
       "      <th>duration_num</th>\n",
       "    </tr>\n",
       "  </thead>\n",
       "  <tbody>\n",
       "    <tr>\n",
       "      <th>0</th>\n",
       "      <td>min</td>\n",
       "      <td>90</td>\n",
       "    </tr>\n",
       "    <tr>\n",
       "      <th>1</th>\n",
       "      <td>Seasons</td>\n",
       "      <td>2</td>\n",
       "    </tr>\n",
       "    <tr>\n",
       "      <th>2</th>\n",
       "      <td>Season</td>\n",
       "      <td>1</td>\n",
       "    </tr>\n",
       "    <tr>\n",
       "      <th>3</th>\n",
       "      <td>Season</td>\n",
       "      <td>1</td>\n",
       "    </tr>\n",
       "    <tr>\n",
       "      <th>4</th>\n",
       "      <td>Seasons</td>\n",
       "      <td>2</td>\n",
       "    </tr>\n",
       "    <tr>\n",
       "      <th>...</th>\n",
       "      <td>...</td>\n",
       "      <td>...</td>\n",
       "    </tr>\n",
       "    <tr>\n",
       "      <th>8804</th>\n",
       "      <td>min</td>\n",
       "      <td>88</td>\n",
       "    </tr>\n",
       "    <tr>\n",
       "      <th>8805</th>\n",
       "      <td>min</td>\n",
       "      <td>88</td>\n",
       "    </tr>\n",
       "    <tr>\n",
       "      <th>8806</th>\n",
       "      <td>min</td>\n",
       "      <td>111</td>\n",
       "    </tr>\n",
       "    <tr>\n",
       "      <th>8807</th>\n",
       "      <td>Season</td>\n",
       "      <td>1</td>\n",
       "    </tr>\n",
       "    <tr>\n",
       "      <th>8808</th>\n",
       "      <td>min</td>\n",
       "      <td>110</td>\n",
       "    </tr>\n",
       "  </tbody>\n",
       "</table>\n",
       "<p>8806 rows × 2 columns</p>\n",
       "</div>"
      ],
      "text/plain": [
       "     duration_unit  duration_num\n",
       "0              min            90\n",
       "1          Seasons             2\n",
       "2           Season             1\n",
       "3           Season             1\n",
       "4          Seasons             2\n",
       "...            ...           ...\n",
       "8804           min            88\n",
       "8805           min            88\n",
       "8806           min           111\n",
       "8807        Season             1\n",
       "8808           min           110\n",
       "\n",
       "[8806 rows x 2 columns]"
      ]
     },
     "execution_count": 215,
     "metadata": {},
     "output_type": "execute_result"
    }
   ],
   "source": [
    "# # 7 Normaliza la columna duration separando el número y la unidad en dos columnas.\n",
    "\n",
    "df[\"duration_unit\"] = df[\"duration\"].str.extract(r\"([a-zA-Z]+)\")\n",
    "\n",
    "df[[\"duration_unit\",\"duration_num\"]]\n"
   ]
  },
  {
   "cell_type": "code",
   "execution_count": null,
   "id": "e81d9771",
   "metadata": {},
   "outputs": [
    {
     "data": {
      "text/html": [
       "<div>\n",
       "<style scoped>\n",
       "    .dataframe tbody tr th:only-of-type {\n",
       "        vertical-align: middle;\n",
       "    }\n",
       "\n",
       "    .dataframe tbody tr th {\n",
       "        vertical-align: top;\n",
       "    }\n",
       "\n",
       "    .dataframe thead th {\n",
       "        text-align: right;\n",
       "    }\n",
       "</style>\n",
       "<table border=\"1\" class=\"dataframe\">\n",
       "  <thead>\n",
       "    <tr style=\"text-align: right;\">\n",
       "      <th></th>\n",
       "      <th>month</th>\n",
       "      <th>year</th>\n",
       "    </tr>\n",
       "  </thead>\n",
       "  <tbody>\n",
       "    <tr>\n",
       "      <th>0</th>\n",
       "      <td>9</td>\n",
       "      <td>2021</td>\n",
       "    </tr>\n",
       "    <tr>\n",
       "      <th>1</th>\n",
       "      <td>9</td>\n",
       "      <td>2021</td>\n",
       "    </tr>\n",
       "    <tr>\n",
       "      <th>2</th>\n",
       "      <td>9</td>\n",
       "      <td>2021</td>\n",
       "    </tr>\n",
       "    <tr>\n",
       "      <th>3</th>\n",
       "      <td>9</td>\n",
       "      <td>2021</td>\n",
       "    </tr>\n",
       "    <tr>\n",
       "      <th>4</th>\n",
       "      <td>9</td>\n",
       "      <td>2021</td>\n",
       "    </tr>\n",
       "    <tr>\n",
       "      <th>...</th>\n",
       "      <td>...</td>\n",
       "      <td>...</td>\n",
       "    </tr>\n",
       "    <tr>\n",
       "      <th>8804</th>\n",
       "      <td>11</td>\n",
       "      <td>2019</td>\n",
       "    </tr>\n",
       "    <tr>\n",
       "      <th>8805</th>\n",
       "      <td>1</td>\n",
       "      <td>2020</td>\n",
       "    </tr>\n",
       "    <tr>\n",
       "      <th>8806</th>\n",
       "      <td>3</td>\n",
       "      <td>2019</td>\n",
       "    </tr>\n",
       "    <tr>\n",
       "      <th>8807</th>\n",
       "      <td>4</td>\n",
       "      <td>2024</td>\n",
       "    </tr>\n",
       "    <tr>\n",
       "      <th>8808</th>\n",
       "      <td>4</td>\n",
       "      <td>2024</td>\n",
       "    </tr>\n",
       "  </tbody>\n",
       "</table>\n",
       "<p>8806 rows × 2 columns</p>\n",
       "</div>"
      ],
      "text/plain": [
       "      month  year\n",
       "0         9  2021\n",
       "1         9  2021\n",
       "2         9  2021\n",
       "3         9  2021\n",
       "4         9  2021\n",
       "...     ...   ...\n",
       "8804     11  2019\n",
       "8805      1  2020\n",
       "8806      3  2019\n",
       "8807      4  2024\n",
       "8808      4  2024\n",
       "\n",
       "[8806 rows x 2 columns]"
      ]
     },
     "execution_count": 238,
     "metadata": {},
     "output_type": "execute_result"
    }
   ],
   "source": [
    "# # 8 Convierte date_added a datetime y extrae año y mes en columnas nuevas.\n",
    "df_modify_date = df.copy()\n",
    "df_modify_date[\"date_added\"] = pd.to_datetime(df[\"date_added\"],errors=\"coerce\")\n",
    "\n",
    "df_modify_date\n",
    "\n",
    "df_modify_date[\"month\"] = df_modify_date[\"date_added\"].dt.month.astype(\"Int64\")\n",
    "df_modify_date[\"year\"]=df_modify_date[\"date_added\"].dt.year.astype(\"Int64\")\n",
    "\n",
    "df_modify_date[[\"month\",\"year\"]]"
   ]
  },
  {
   "cell_type": "code",
   "execution_count": null,
   "id": "24852050",
   "metadata": {},
   "outputs": [
    {
     "data": {
      "text/html": [
       "<div>\n",
       "<style scoped>\n",
       "    .dataframe tbody tr th:only-of-type {\n",
       "        vertical-align: middle;\n",
       "    }\n",
       "\n",
       "    .dataframe tbody tr th {\n",
       "        vertical-align: top;\n",
       "    }\n",
       "\n",
       "    .dataframe thead th {\n",
       "        text-align: right;\n",
       "    }\n",
       "</style>\n",
       "<table border=\"1\" class=\"dataframe\">\n",
       "  <thead>\n",
       "    <tr style=\"text-align: right;\">\n",
       "      <th></th>\n",
       "      <th>show_id</th>\n",
       "      <th>type</th>\n",
       "      <th>title</th>\n",
       "      <th>director</th>\n",
       "      <th>cast</th>\n",
       "      <th>country</th>\n",
       "      <th>date_added</th>\n",
       "      <th>release_year</th>\n",
       "      <th>rating</th>\n",
       "      <th>duration</th>\n",
       "      <th>...</th>\n",
       "      <th>Unnamed: 18</th>\n",
       "      <th>Unnamed: 19</th>\n",
       "      <th>Unnamed: 20</th>\n",
       "      <th>Unnamed: 21</th>\n",
       "      <th>Unnamed: 22</th>\n",
       "      <th>Unnamed: 23</th>\n",
       "      <th>Unnamed: 24</th>\n",
       "      <th>Unnamed: 25</th>\n",
       "      <th>duration_num</th>\n",
       "      <th>duration_unit</th>\n",
       "    </tr>\n",
       "  </thead>\n",
       "  <tbody>\n",
       "    <tr>\n",
       "      <th>3962</th>\n",
       "      <td>s3963</td>\n",
       "      <td>Movie</td>\n",
       "      <td>15-Aug</td>\n",
       "      <td>Swapnaneel Jayakar</td>\n",
       "      <td>Rahul Pethe, Mrunmayee Deshpande, Adinath Koth...</td>\n",
       "      <td>India</td>\n",
       "      <td>March 29, 2019</td>\n",
       "      <td>2019</td>\n",
       "      <td>TV-14</td>\n",
       "      <td>124 min</td>\n",
       "      <td>...</td>\n",
       "      <td>NaN</td>\n",
       "      <td>NaN</td>\n",
       "      <td>NaN</td>\n",
       "      <td>NaN</td>\n",
       "      <td>NaN</td>\n",
       "      <td>NaN</td>\n",
       "      <td>NaN</td>\n",
       "      <td>NaN</td>\n",
       "      <td>124</td>\n",
       "      <td>min</td>\n",
       "    </tr>\n",
       "    <tr>\n",
       "      <th>5966</th>\n",
       "      <td>s5967</td>\n",
       "      <td>Movie</td>\n",
       "      <td>15-Aug</td>\n",
       "      <td>Swapnaneel Jayakar</td>\n",
       "      <td>Rahul Pethe, Mrunmayee Deshpande, Adinath Koth...</td>\n",
       "      <td>India</td>\n",
       "      <td>March 29, 2019</td>\n",
       "      <td>2019</td>\n",
       "      <td>TV-14</td>\n",
       "      <td>124 min</td>\n",
       "      <td>...</td>\n",
       "      <td>NaN</td>\n",
       "      <td>NaN</td>\n",
       "      <td>NaN</td>\n",
       "      <td>NaN</td>\n",
       "      <td>NaN</td>\n",
       "      <td>NaN</td>\n",
       "      <td>NaN</td>\n",
       "      <td>NaN</td>\n",
       "      <td>124</td>\n",
       "      <td>min</td>\n",
       "    </tr>\n",
       "    <tr>\n",
       "      <th>4522</th>\n",
       "      <td>s4523</td>\n",
       "      <td>Movie</td>\n",
       "      <td>22-Jul</td>\n",
       "      <td>Paul Greengrass</td>\n",
       "      <td>Anders Danielsen Lie, Jon Ãigarden, Jonas Str...</td>\n",
       "      <td>Norway, Iceland, United States</td>\n",
       "      <td>October 10, 2018</td>\n",
       "      <td>2018</td>\n",
       "      <td>R</td>\n",
       "      <td>144 min</td>\n",
       "      <td>...</td>\n",
       "      <td>NaN</td>\n",
       "      <td>NaN</td>\n",
       "      <td>NaN</td>\n",
       "      <td>NaN</td>\n",
       "      <td>NaN</td>\n",
       "      <td>NaN</td>\n",
       "      <td>NaN</td>\n",
       "      <td>NaN</td>\n",
       "      <td>144</td>\n",
       "      <td>min</td>\n",
       "    </tr>\n",
       "    <tr>\n",
       "      <th>5965</th>\n",
       "      <td>s5966</td>\n",
       "      <td>Movie</td>\n",
       "      <td>22-Jul</td>\n",
       "      <td>Paul Greengrass</td>\n",
       "      <td>Anders Danielsen Lie, Jon Ãigarden, Jonas Str...</td>\n",
       "      <td>Norway, Iceland, United States</td>\n",
       "      <td>October 10, 2018</td>\n",
       "      <td>2018</td>\n",
       "      <td>R</td>\n",
       "      <td>144 min</td>\n",
       "      <td>...</td>\n",
       "      <td>NaN</td>\n",
       "      <td>NaN</td>\n",
       "      <td>NaN</td>\n",
       "      <td>NaN</td>\n",
       "      <td>NaN</td>\n",
       "      <td>NaN</td>\n",
       "      <td>NaN</td>\n",
       "      <td>NaN</td>\n",
       "      <td>144</td>\n",
       "      <td>min</td>\n",
       "    </tr>\n",
       "    <tr>\n",
       "      <th>3996</th>\n",
       "      <td>s3997</td>\n",
       "      <td>TV Show</td>\n",
       "      <td>Feb-09</td>\n",
       "      <td>NaN</td>\n",
       "      <td>Shahd El Yaseen, Shaila Sabt, Hala, Hanadi Al-...</td>\n",
       "      <td>NaN</td>\n",
       "      <td>March 20, 2019</td>\n",
       "      <td>2018</td>\n",
       "      <td>TV-14</td>\n",
       "      <td>1 Season</td>\n",
       "      <td>...</td>\n",
       "      <td>NaN</td>\n",
       "      <td>NaN</td>\n",
       "      <td>NaN</td>\n",
       "      <td>NaN</td>\n",
       "      <td>NaN</td>\n",
       "      <td>NaN</td>\n",
       "      <td>NaN</td>\n",
       "      <td>NaN</td>\n",
       "      <td>1</td>\n",
       "      <td>Season</td>\n",
       "    </tr>\n",
       "    <tr>\n",
       "      <th>5964</th>\n",
       "      <td>s5965</td>\n",
       "      <td>TV Show</td>\n",
       "      <td>Feb-09</td>\n",
       "      <td>NaN</td>\n",
       "      <td>Shahd El Yaseen, Shaila Sabt, Hala, Hanadi Al-...</td>\n",
       "      <td>NaN</td>\n",
       "      <td>March 20, 2019</td>\n",
       "      <td>2018</td>\n",
       "      <td>TV-14</td>\n",
       "      <td>1 Season</td>\n",
       "      <td>...</td>\n",
       "      <td>NaN</td>\n",
       "      <td>NaN</td>\n",
       "      <td>NaN</td>\n",
       "      <td>NaN</td>\n",
       "      <td>NaN</td>\n",
       "      <td>NaN</td>\n",
       "      <td>NaN</td>\n",
       "      <td>NaN</td>\n",
       "      <td>1</td>\n",
       "      <td>Season</td>\n",
       "    </tr>\n",
       "  </tbody>\n",
       "</table>\n",
       "<p>6 rows × 28 columns</p>\n",
       "</div>"
      ],
      "text/plain": [
       "     show_id     type   title            director  \\\n",
       "3962   s3963    Movie  15-Aug  Swapnaneel Jayakar   \n",
       "5966   s5967    Movie  15-Aug  Swapnaneel Jayakar   \n",
       "4522   s4523    Movie  22-Jul     Paul Greengrass   \n",
       "5965   s5966    Movie  22-Jul     Paul Greengrass   \n",
       "3996   s3997  TV Show  Feb-09                 NaN   \n",
       "5964   s5965  TV Show  Feb-09                 NaN   \n",
       "\n",
       "                                                   cast  \\\n",
       "3962  Rahul Pethe, Mrunmayee Deshpande, Adinath Koth...   \n",
       "5966  Rahul Pethe, Mrunmayee Deshpande, Adinath Koth...   \n",
       "4522  Anders Danielsen Lie, Jon Ãigarden, Jonas Str...   \n",
       "5965  Anders Danielsen Lie, Jon Ãigarden, Jonas Str...   \n",
       "3996  Shahd El Yaseen, Shaila Sabt, Hala, Hanadi Al-...   \n",
       "5964  Shahd El Yaseen, Shaila Sabt, Hala, Hanadi Al-...   \n",
       "\n",
       "                             country        date_added  release_year rating  \\\n",
       "3962                           India    March 29, 2019          2019  TV-14   \n",
       "5966                           India    March 29, 2019          2019  TV-14   \n",
       "4522  Norway, Iceland, United States  October 10, 2018          2018      R   \n",
       "5965  Norway, Iceland, United States  October 10, 2018          2018      R   \n",
       "3996                             NaN    March 20, 2019          2018  TV-14   \n",
       "5964                             NaN    March 20, 2019          2018  TV-14   \n",
       "\n",
       "      duration  ... Unnamed: 18 Unnamed: 19  Unnamed: 20  Unnamed: 21  \\\n",
       "3962   124 min  ...         NaN         NaN          NaN          NaN   \n",
       "5966   124 min  ...         NaN         NaN          NaN          NaN   \n",
       "4522   144 min  ...         NaN         NaN          NaN          NaN   \n",
       "5965   144 min  ...         NaN         NaN          NaN          NaN   \n",
       "3996  1 Season  ...         NaN         NaN          NaN          NaN   \n",
       "5964  1 Season  ...         NaN         NaN          NaN          NaN   \n",
       "\n",
       "      Unnamed: 22  Unnamed: 23  Unnamed: 24  Unnamed: 25  duration_num  \\\n",
       "3962          NaN          NaN          NaN          NaN           124   \n",
       "5966          NaN          NaN          NaN          NaN           124   \n",
       "4522          NaN          NaN          NaN          NaN           144   \n",
       "5965          NaN          NaN          NaN          NaN           144   \n",
       "3996          NaN          NaN          NaN          NaN             1   \n",
       "5964          NaN          NaN          NaN          NaN             1   \n",
       "\n",
       "      duration_unit  \n",
       "3962            min  \n",
       "5966            min  \n",
       "4522            min  \n",
       "5965            min  \n",
       "3996         Season  \n",
       "5964         Season  \n",
       "\n",
       "[6 rows x 28 columns]"
      ]
     },
     "execution_count": 242,
     "metadata": {},
     "output_type": "execute_result"
    }
   ],
   "source": [
    "# # 8 Elimina duplicados si existen en títulos, y justifica si debes o no hacerlo.\n",
    "\n",
    "df[df[\"title\"].duplicated(keep=False)].sort_values(\"title\")\n",
    "\n",
    "#no deben eliminarse porque son distintos directores en distintas fechas, paises,duraciones como si fueran versiones de peliculas distintas"
   ]
  },
  {
   "cell_type": "code",
   "execution_count": null,
   "id": "1d668eb8",
   "metadata": {},
   "outputs": [
    {
     "name": "stderr",
     "output_type": "stream",
     "text": [
      "C:\\Users\\diego\\AppData\\Local\\Temp\\ipykernel_6604\\3669791881.py:6: SettingWithCopyWarning: \n",
      "A value is trying to be set on a copy of a slice from a DataFrame.\n",
      "Try using .loc[row_indexer,col_indexer] = value instead\n",
      "\n",
      "See the caveats in the documentation: https://pandas.pydata.org/pandas-docs/stable/user_guide/indexing.html#returning-a-view-versus-a-copy\n",
      "  df_sin_nan_country[\"country\"] = df_sin_nan_country[\"country\"].str.split(\",\")\n"
     ]
    },
    {
     "data": {
      "text/plain": [
       "country\n",
       "United States     3691\n",
       "India             1046\n",
       "United Kingdom     806\n",
       "Canada             445\n",
       "France             393\n",
       "Name: count, dtype: int64"
      ]
     },
     "execution_count": 318,
     "metadata": {},
     "output_type": "execute_result"
    }
   ],
   "source": [
    "# # 9 ¿Cuáles son los 5 países con más títulos disponibles?\n",
    "\n",
    "# # df_movies[\"country\"].value_counts(\"title\").sort_values(ascending=False).head(5)\n",
    "\n",
    "df_sin_nan_country = df.dropna(subset=\"country\")\n",
    "df_sin_nan_country[\"country\"] = df_sin_nan_country[\"country\"].str.split(\",\")\n",
    "df_exploded = df_sin_nan_country.explode(\"country\")\n",
    "\n",
    "df_exploded[\"country\"]= df_exploded[\"country\"].str.strip()\n",
    "\n",
    "df_exploded[\"country\"].value_counts().head(5)\n",
    "\n",
    "\n"
   ]
  },
  {
   "cell_type": "code",
   "execution_count": null,
   "id": "dcb8bb23",
   "metadata": {},
   "outputs": [
    {
     "data": {
      "text/plain": [
       "rating\n",
       "TV-MA       0.336378\n",
       "TV-14       0.232790\n",
       "R           0.130016\n",
       "TV-PG       0.088091\n",
       "PG-13       0.079935\n",
       "PG          0.046819\n",
       "TV-Y7       0.022675\n",
       "TV-Y        0.021370\n",
       "TV-G        0.020555\n",
       "NR          0.012235\n",
       "G           0.006688\n",
       "TV-Y7-FV    0.000816\n",
       "NC-17       0.000489\n",
       "UR          0.000489\n",
       "66 min      0.000163\n",
       "84 min      0.000163\n",
       "74 min      0.000163\n",
       "A           0.000163\n",
       "Name: proportion, dtype: float64"
      ]
     },
     "execution_count": 322,
     "metadata": {},
     "output_type": "execute_result"
    }
   ],
   "source": [
    "# # 10 ¿Cuál es la distribución de contenido por clasificación (rating) para películas?\n",
    "\n",
    "df[df[\"type\"] == \"Movie\"][\"rating\"].value_counts(normalize=True)\n"
   ]
  },
  {
   "cell_type": "code",
   "execution_count": null,
   "id": "7f4658a6",
   "metadata": {},
   "outputs": [
    {
     "data": {
      "text/plain": [
       "director\n",
       "Rajiv Chilaka              19\n",
       "RaÃºl Campos, Jan Suter    18\n",
       "Suhas Kadav                16\n",
       "Marcus Raboy               16\n",
       "Jay Karas                  14\n",
       "Cathy Garcia-Molina        13\n",
       "Jay Chapman                12\n",
       "Youssef Chahine            12\n",
       "Martin Scorsese            12\n",
       "Steven Spielberg           11\n",
       "Name: count, dtype: int64"
      ]
     },
     "execution_count": 340,
     "metadata": {},
     "output_type": "execute_result"
    }
   ],
   "source": [
    "# # 11 ¿Qué directores tienen más de 10 títulos en la plataforma?\n",
    "\n",
    "contar_directores= df[\"director\"].dropna().value_counts()\n",
    "directores_top_10 = contar_directores[contar_directores > 10]\n",
    "\n",
    "directores_top_10\n",
    "# df[\"director\"].value_counts()[df[\"director\"].value_counts() > 10]"
   ]
  },
  {
   "cell_type": "code",
   "execution_count": null,
   "id": "16170faa",
   "metadata": {},
   "outputs": [
    {
     "data": {
      "text/plain": [
       "type\n",
       "Movie      1424\n",
       "TV Show     575\n",
       "Name: count, dtype: int64"
      ]
     },
     "execution_count": 376,
     "metadata": {},
     "output_type": "execute_result"
    }
   ],
   "source": [
    "# # 12 ¿Cuál fue el año con más contenido añadido a la plataforma? ¿Qué tipo predominaba ese año?\n",
    "\n",
    "df_anho = df.copy()\n",
    "\n",
    "df_anho[\"date_added\"] = pd.to_datetime(df_anho[\"date_added\"],errors=\"coerce\")\n",
    "\n",
    "df_anho[\"ano\"] = df_anho[\"date_added\"].dt.year\n",
    "\n",
    "df_anho[\"ano\"] = df_anho[\"ano\"].astype(\"Int64\")\n",
    "\n",
    "anho_mas_contenido = df_anho[\"ano\"].value_counts().head(1)\n",
    "\n",
    "anho_top = anho_mas_contenido.index[0]\n",
    "\n",
    "df_anho_top = df_anho[df_anho[\"ano\"] == anho_top]\n",
    "\n",
    "df_anho_top[\"type\"].value_counts()\n",
    "\n",
    "# df_anho[anho_mas_contenido.index[0]][\"type\"].value_counts()\n",
    "\n"
   ]
  },
  {
   "cell_type": "code",
   "execution_count": null,
   "id": "bdc123d8",
   "metadata": {},
   "outputs": [
    {
     "data": {
      "text/plain": [
       "listed_in\n",
       " International Movies    2624\n",
       "Dramas                   1600\n",
       "Comedies                 1210\n",
       "Name: count, dtype: int64"
      ]
     },
     "execution_count": 392,
     "metadata": {},
     "output_type": "execute_result"
    }
   ],
   "source": [
    "# # 12 ¿Qué géneros son más comunes? (listed_in puede tener múltiples valores)\n",
    "\n",
    "df_generos = df.copy()\n",
    "\n",
    "df_generos[\"listed_in\"] = df_generos[\"listed_in\"].str.split(\",\")\n",
    "\n",
    "df_generos_explode = df_generos.explode(\"listed_in\")\n",
    "\n",
    "df_generos_explode= df_generos_explode.dropna(subset=\"listed_in\")\n",
    "\n",
    "df_generos_explode[\"listed_in\"].value_counts().head(3)\n"
   ]
  },
  {
   "cell_type": "code",
   "execution_count": null,
   "id": "69a99fd1",
   "metadata": {},
   "outputs": [
    {
     "data": {
      "text/html": [
       "<div>\n",
       "<style scoped>\n",
       "    .dataframe tbody tr th:only-of-type {\n",
       "        vertical-align: middle;\n",
       "    }\n",
       "\n",
       "    .dataframe tbody tr th {\n",
       "        vertical-align: top;\n",
       "    }\n",
       "\n",
       "    .dataframe thead th {\n",
       "        text-align: right;\n",
       "    }\n",
       "</style>\n",
       "<table border=\"1\" class=\"dataframe\">\n",
       "  <thead>\n",
       "    <tr style=\"text-align: right;\">\n",
       "      <th>type</th>\n",
       "      <th>Movie</th>\n",
       "      <th>TV Show</th>\n",
       "      <th>proporcion_series</th>\n",
       "    </tr>\n",
       "    <tr>\n",
       "      <th>country</th>\n",
       "      <th></th>\n",
       "      <th></th>\n",
       "      <th></th>\n",
       "    </tr>\n",
       "  </thead>\n",
       "  <tbody>\n",
       "    <tr>\n",
       "      <th>Azerbaijan</th>\n",
       "      <td>0</td>\n",
       "      <td>1</td>\n",
       "      <td>1.0</td>\n",
       "    </tr>\n",
       "    <tr>\n",
       "      <th>Belarus</th>\n",
       "      <td>0</td>\n",
       "      <td>1</td>\n",
       "      <td>1.0</td>\n",
       "    </tr>\n",
       "    <tr>\n",
       "      <th>Cuba</th>\n",
       "      <td>0</td>\n",
       "      <td>1</td>\n",
       "      <td>1.0</td>\n",
       "    </tr>\n",
       "    <tr>\n",
       "      <th>Cyprus</th>\n",
       "      <td>0</td>\n",
       "      <td>1</td>\n",
       "      <td>1.0</td>\n",
       "    </tr>\n",
       "    <tr>\n",
       "      <th>Puerto Rico</th>\n",
       "      <td>0</td>\n",
       "      <td>1</td>\n",
       "      <td>1.0</td>\n",
       "    </tr>\n",
       "  </tbody>\n",
       "</table>\n",
       "</div>"
      ],
      "text/plain": [
       "type         Movie  TV Show  proporcion_series\n",
       "country                                       \n",
       "Azerbaijan       0        1                1.0\n",
       "Belarus          0        1                1.0\n",
       "Cuba             0        1                1.0\n",
       "Cyprus           0        1                1.0\n",
       "Puerto Rico      0        1                1.0"
      ]
     },
     "execution_count": 33,
     "metadata": {},
     "output_type": "execute_result"
    }
   ],
   "source": [
    "# # 13 ¿Qué país tiene mayor proporción de series respecto a películas?\n",
    "\n",
    "df_sin_na = df.copy()\n",
    "\n",
    "df_sin_na = df_sin_na.dropna(subset=\"country\")\n",
    "\n",
    "df_sin_na[\"country\"] = df_sin_na[\"country\"].str.split(\",\")\n",
    "df_sin_na_explode = df_sin_na.explode(\"country\")\n",
    "\n",
    "df_sin_na_explode[\"country\"] = df_sin_na_explode[\"country\"].str.strip()\n",
    "\n",
    "tabla_proporcion = df_sin_na_explode.groupby([\"country\",\"type\"]).size().unstack(fill_value=0)\n",
    "\n",
    "tabla_proporcion[\"proporcion_series\"] = tabla_proporcion[\"TV Show\"] / (tabla_proporcion[\"Movie\"]+tabla_proporcion[\"TV Show\"])\n",
    "\n",
    "tabla_proporcion.sort_values(\"proporcion_series\",ascending=False).head(5)"
   ]
  },
  {
   "cell_type": "code",
   "execution_count": null,
   "id": "b25eb057",
   "metadata": {},
   "outputs": [
    {
     "name": "stdout",
     "output_type": "stream",
     "text": [
      "Género más común en películas:\n",
      "listed_in\n",
      "International Movies    2752\n",
      "dtype: int64\n",
      "\n",
      "Género más común en series:\n",
      "listed_in\n",
      "International TV Shows    1351\n",
      "dtype: int64\n"
     ]
    }
   ],
   "source": [
    "# # 14 ¿Qué género es más común en películas frente a series?\n",
    "\n",
    "df_genero = df.copy()\n",
    "\n",
    "df_genero= df_genero.dropna(subset=\"listed_in\")\n",
    "\n",
    "\n",
    "df_genero[\"listed_in\"] = df_genero[\"listed_in\"].str.split(\",\")\n",
    "df_genero_explode = df_genero.explode(\"listed_in\")\n",
    "\n",
    "df_genero_explode[\"listed_in\"] = df_genero_explode[\"listed_in\"].str.strip()\n",
    "\n",
    "genero_mas_comun_peliculas =df_genero_explode[df_genero_explode[\"type\"] == \"Movie\"] \\\n",
    "    .groupby(\"listed_in\").size().sort_values(ascending=False).head(1)\n",
    "\n",
    "genero_mas_comun_series = df_genero_explode[df_genero_explode[\"type\"] == \"TV Show\"] \\\n",
    "    .groupby(\"listed_in\").size().sort_values(ascending=False).head(1)\n",
    "\n",
    "print(\"Género más común en películas:\")\n",
    "print(genero_mas_comun_peliculas)\n",
    "\n",
    "print(\"\\nGénero más común en series:\")\n",
    "print(genero_mas_comun_series)"
   ]
  },
  {
   "cell_type": "code",
   "execution_count": null,
   "id": "f2c644ea",
   "metadata": {},
   "outputs": [
    {
     "data": {
      "text/plain": [
       "Text(0, 0.5, 'Cantidad de títulos')"
      ]
     },
     "execution_count": 142,
     "metadata": {},
     "output_type": "execute_result"
    },
    {
     "data": {
      "image/png": "[encoded data removed]",
      "text/plain": [
       "<Figure size 640x480 with 1 Axes>"
      ]
     },
     "metadata": {},
     "output_type": "display_data"
    }
   ],
   "source": [
    "# # 15 ¿Ha cambiado la cantidad de títulos añadidos año a año desde 2010? (gráfico de líneas)\n",
    "\n",
    "df_anho = df.copy()\n",
    "\n",
    "df_anho[\"date_added\"] = pd.to_datetime(df_anho[\"date_added\"],errors=\"coerce\")\n",
    "\n",
    "df_anho[\"anho\"] = df_anho[\"date_added\"].dt.year.astype(\"Int64\")\n",
    "\n",
    "df_progresion_titulos = df_anho[df_anho[\"anho\"]>=2010].groupby(\"anho\").size().reset_index(name=\"cantidad\")\n",
    "\n",
    "df_progresion_titulos\n",
    "\n",
    "sbn.lineplot(data=df_progresion_titulos,x = \"anho\",y=\"cantidad\")\n",
    "plt.title(\"Evolución de títulos añadidos a Netflix desde 2010\")\n",
    "plt.xlabel(\"Año\")\n",
    "plt.ylabel(\"Cantidad de títulos\")\n",
    "\n"
   ]
  },
  {
   "cell_type": "code",
   "execution_count": null,
   "id": "920a5c5d",
   "metadata": {},
   "outputs": [
    {
     "data": {
      "image/png": "[encoded data removed]",
      "text/plain": [
       "<Figure size 640x480 with 1 Axes>"
      ]
     },
     "metadata": {},
     "output_type": "display_data"
    }
   ],
   "source": [
    "# # 16 ¿Hay alguna estacionalidad? ¿En qué mes se suele subir más contenido?\n",
    "\n",
    "df_anho[\"month\"] = df_anho[\"date_added\"].dt.month.astype(\"Int64\")\n",
    "\n",
    "df_estacionalidad =df_anho[\"month\"].value_counts(ascending=False).reset_index(name=\"total_content\")\n",
    "\n",
    "df_estacionalidad\n",
    "sbn.lineplot(data=df_estacionalidad,x=\"month\",y=\"total_content\")\n",
    "plt.title(\"Estacionalidad subida contenido\")\n",
    "plt.xlabel(\"mes\")\n",
    "plt.ylabel(\"total contenido\")\n",
    "plt.show()\n",
    "\n",
    "\n"
   ]
  },
  {
   "cell_type": "code",
   "execution_count": 228,
   "id": "5d2569cc",
   "metadata": {},
   "outputs": [
    {
     "data": {
      "text/html": [
       "<div>\n",
       "<style scoped>\n",
       "    .dataframe tbody tr th:only-of-type {\n",
       "        vertical-align: middle;\n",
       "    }\n",
       "\n",
       "    .dataframe tbody tr th {\n",
       "        vertical-align: top;\n",
       "    }\n",
       "\n",
       "    .dataframe thead th {\n",
       "        text-align: right;\n",
       "    }\n",
       "</style>\n",
       "<table border=\"1\" class=\"dataframe\">\n",
       "  <thead>\n",
       "    <tr style=\"text-align: right;\">\n",
       "      <th></th>\n",
       "      <th>country</th>\n",
       "      <th>duracion_media</th>\n",
       "    </tr>\n",
       "  </thead>\n",
       "  <tbody>\n",
       "    <tr>\n",
       "      <th>0</th>\n",
       "      <td></td>\n",
       "      <td>81.166667</td>\n",
       "    </tr>\n",
       "    <tr>\n",
       "      <th>1</th>\n",
       "      <td>Afghanistan</td>\n",
       "      <td>84.0</td>\n",
       "    </tr>\n",
       "    <tr>\n",
       "      <th>2</th>\n",
       "      <td>Albania</td>\n",
       "      <td>105.0</td>\n",
       "    </tr>\n",
       "    <tr>\n",
       "      <th>3</th>\n",
       "      <td>Algeria</td>\n",
       "      <td>108.333333</td>\n",
       "    </tr>\n",
       "    <tr>\n",
       "      <th>4</th>\n",
       "      <td>Angola</td>\n",
       "      <td>107.0</td>\n",
       "    </tr>\n",
       "    <tr>\n",
       "      <th>...</th>\n",
       "      <td>...</td>\n",
       "      <td>...</td>\n",
       "    </tr>\n",
       "    <tr>\n",
       "      <th>113</th>\n",
       "      <td>Vatican City</td>\n",
       "      <td>96.0</td>\n",
       "    </tr>\n",
       "    <tr>\n",
       "      <th>114</th>\n",
       "      <td>Venezuela</td>\n",
       "      <td>96.25</td>\n",
       "    </tr>\n",
       "    <tr>\n",
       "      <th>115</th>\n",
       "      <td>Vietnam</td>\n",
       "      <td>106.285714</td>\n",
       "    </tr>\n",
       "    <tr>\n",
       "      <th>116</th>\n",
       "      <td>West Germany</td>\n",
       "      <td>113.333333</td>\n",
       "    </tr>\n",
       "    <tr>\n",
       "      <th>117</th>\n",
       "      <td>Zimbabwe</td>\n",
       "      <td>103.0</td>\n",
       "    </tr>\n",
       "  </tbody>\n",
       "</table>\n",
       "<p>118 rows × 2 columns</p>\n",
       "</div>"
      ],
      "text/plain": [
       "          country  duracion_media\n",
       "0                       81.166667\n",
       "1     Afghanistan            84.0\n",
       "2         Albania           105.0\n",
       "3         Algeria      108.333333\n",
       "4          Angola           107.0\n",
       "..            ...             ...\n",
       "113  Vatican City            96.0\n",
       "114     Venezuela           96.25\n",
       "115       Vietnam      106.285714\n",
       "116  West Germany      113.333333\n",
       "117      Zimbabwe           103.0\n",
       "\n",
       "[118 rows x 2 columns]"
      ]
     },
     "execution_count": 228,
     "metadata": {},
     "output_type": "execute_result"
    }
   ],
   "source": [
    "# 17 ¿Cuál es la duración promedio de películas por país?\n",
    "\n",
    "df_pais= df.copy()\n",
    "df_pais[\"country\"] = df_pais[\"country\"].str.split(\",\")\n",
    "df_pais_exploded = df_pais.explode(\"country\")\n",
    "df_pais_exploded[\"country\"] = df_pais_exploded[\"country\"].str.strip()\n",
    "df_pais_exploded = df_pais_exploded.dropna(subset=\"country\")\n",
    "df_pais_exploded[\"num_duration\"] = df_pais_exploded[\"duration\"].str.extract(r\"([0-9]+)\").astype(\"Int64\")\n",
    "df_pais_exploded[df_pais_exploded[\"type\"]==\"Movie\"].groupby(\"country\")[\"num_duration\"].mean().reset_index(name = \"duracion_media\")\n",
    "\n",
    "\n"
   ]
  }
 ],
 "metadata": {
  "kernelspec": {
   "display_name": "Python 3",
   "language": "python",
   "name": "python3"
  },
  "language_info": {
   "codemirror_mode": {
    "name": "ipython",
    "version": 3
   },
   "file_extension": ".py",
   "mimetype": "text/x-python",
   "name": "python",
   "nbconvert_exporter": "python",
   "pygments_lexer": "ipython3",
   "version": "3.13.2"
  }
 },
 "nbformat": 4,
 "nbformat_minor": 5
}
